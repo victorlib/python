{
 "cells": [
  {
   "cell_type": "code",
   "execution_count": 10,
   "metadata": {},
   "outputs": [],
   "source": [
    "from subprocess import Popen, PIPE\n",
    "import time\n",
    "\n",
    "def convert(src, dst):\n",
    "    d = {'src': src, 'dst': dst}\n",
    "    commands = [\n",
    "        '/usr/bin/docsplit pdf --output %(dst)s %(src)s' % d,\n",
    "        'oowriter --headless -convert-to pdf:writer_pdf_Export %(dst)s %(src)s' % d,\n",
    "    ]\n",
    "\n",
    "    for i in range(len(commands)):\n",
    "        command = commands[i]\n",
    "        st = time.time()\n",
    "        process = Popen(command, stdout=PIPE, stderr=PIPE, shell=True) # I am aware of consequences of using `shell=True` \n",
    "        out, err = process.communicate()\n",
    "        errcode = process.returncode\n",
    "        if errcode != 0:\n",
    "            raise Exception(err)\n",
    "        en = time.time() - st\n",
    "        print ('Command %s: Completed in %s seconds' % (str(i+1), str(round(en, 2))))\n",
    "if __name__ == '__main__':\n",
    "    src = 'C:/Users/Administrator/Desktop/pdf/Temp.doc'\n",
    "    dst = 'C:/Users/Administrator/Desktop/pdf/Temp.pdf'\n",
    "    convert(src, dst)\n"
   ]
  },
  {
   "cell_type": "code",
   "execution_count": null,
   "metadata": {},
   "outputs": [],
   "source": []
  }
 ],
 "metadata": {
  "kernelspec": {
   "display_name": "Python 3",
   "language": "python",
   "name": "python3"
  },
  "language_info": {
   "codemirror_mode": {
    "name": "ipython",
    "version": 3
   },
   "file_extension": ".py",
   "mimetype": "text/x-python",
   "name": "python",
   "nbconvert_exporter": "python",
   "pygments_lexer": "ipython3",
   "version": "3.6.4"
  }
 },
 "nbformat": 4,
 "nbformat_minor": 2
}
