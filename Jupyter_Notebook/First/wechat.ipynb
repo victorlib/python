{
 "cells": [
  {
   "cell_type": "code",
   "execution_count": null,
   "metadata": {},
   "outputs": [
    {
     "name": "stdout",
     "output_type": "stream",
     "text": [
      "█\r"
     ]
    },
    {
     "name": "stderr",
     "output_type": "stream",
     "text": [
      "Getting uuid of QR code.\n",
      "Downloading QR code.\n"
     ]
    },
    {
     "name": "stdout",
     "output_type": "stream",
     "text": [
      "██████████████████████████████████████████████████████████████████████████████\n",
      "██              ████  ██  ████  ████████  ████████  ██  ██████              ██\n",
      "██  ██████████  ████  ██████    ████████  ████  ████  ████████  ██████████  ██\n",
      "██  ██      ██  ██      ██  ████    ██  ████  ██████  ██    ██  ██      ██  ██\n",
      "██  ██      ██  ██  ██        ██  ██  ████  ██  ████        ██  ██      ██  ██\n",
      "██  ██      ██  ████  ████  ██████  ██  ████      ██    ██████  ██      ██  ██\n",
      "██  ██████████  ██████    ████    ██  ██  ██  ██  ████  ██████  ██████████  ██\n",
      "██              ██  ██  ██  ██  ██  ██  ██  ██  ██  ██  ██  ██              ██\n",
      "████████████████████  ██████        ████    ██  ██    ██    ██████████████████\n",
      "████████    ██    ██    ████  ██████████  ████      ████████████████    ██████\n",
      "████████      ██      ██████████  ██  ████    ████    ██    ██            ████\n",
      "████  ██████    ██    ██    ██  ██    ██████      ██  ██                ██  ██\n",
      "████  ██████████  ████    ██  ██████████  ██  ████  ██    ██            ██  ██\n",
      "██  ██    ██          ██  ██████  ██  ██    ██████  ████    ██    ██  ██    ██\n",
      "██████████  ████      ██      ████  ████    ██  ██████        ████  ██  ██████\n",
      "██████            ██      ████      ██  ██    ████    ██  ██    ██          ██\n",
      "██  ████  ██  ████    ████  ██████████████  ██  ██  ████  ██  ████        ████\n",
      "██████                ████      ████    ██        ██  ████  ██    ████  ██  ██\n",
      "██        ██  ██████  ██  ████    ██████████████      ██  ██  ██  ██████  ████\n",
      "████    ██  ██  ████  ██  ████    ██          ████  ████  ██████  ████  ██  ██\n",
      "██  ████  ████████    ██  ██████  ██      ██  ████    ██████  ██████  ████████\n",
      "████  ██  ██    ██      ██          ████████████        ██      ██    ████████\n",
      "██    ████████████        ████      ████  ██    ██          ████    ██  ██  ██\n",
      "██  ██  ██  ██        ██    ████  ████████      ██  ████  ████████  ██████  ██\n",
      "████          ██████  ████          ████████  ██    ██      ████  ████    ████\n",
      "████      ██      ████████  ██  ██  ██      ████████    ██        ██  ██  ████\n",
      "██          ██████  ██    ████        ██      ████  ██        ████  ██    ████\n",
      "██    ████        ██    ████  ██    ████    ██  ████      ████    ██        ██\n",
      "██  ██        ██████  ████  ████████    ████    ██  ██        ████████  ██████\n",
      "██  ██████  ██      ██    ████  ██  ██      ██    ██  ██            ██  ██████\n",
      "██████████████████  ████    ████    ████████  ██  ██  ████  ██████        ████\n",
      "██              ██          ██  ████  ██████████    ██████  ██  ██      ██  ██\n",
      "██  ██████████  ██████  ████    ██████  ████  ██        ██  ██████    ██  ████\n",
      "██  ██      ██  ██  ██  ██      ██    ████  ██████  ████            ████  ████\n",
      "██  ██      ██  ██  ████████  ██████        ████████        ██  ████  ████████\n",
      "██  ██      ██  ████  ██████  ████    ████    ████  ██  ██  ████            ██\n",
      "██  ██████████  ██████      ██████████    ██  ████████  ██████  ██  ██      ██\n",
      "██              ████  ██  ████████    ██    ██  ██  ██████  ██  ████  ████  ██\n",
      "██████████████████████████████████████████████████████████████████████████████\n"
     ]
    },
    {
     "name": "stderr",
     "output_type": "stream",
     "text": [
      "Please scan the QR code to log in.\n"
     ]
    }
   ],
   "source": [
    "# -*- coding: utf-8 -*-\n",
    "'''\n",
    "这是一个用来测试微信自动发送消息的demo\n",
    "参考了一篇博客\n",
    "博客地址:http://www.cnblogs.com/botoo/p/8622379.html\n",
    "恩，主要就是用到了一个微信库--wxpy\n",
    "安装很简单  pip install wxpy\n",
    "下面就开始吧\n",
    "主要就两个函数\n",
    "1、getNews();用以获取信息\n",
    "2、sendNews();用以发送信息\n",
    "\n",
    "我这里发送消息用的是for循环本意是群发，但是！但是！但是！程序发的太快会被微信禁掉，大概40个人左右就会被禁，以后可以试试sleep一下。\n",
    "\n",
    "另外vscode中自定义python编译器：\n",
    "Ctrl+shift+p, 选择 python： Select Interpreter\n",
    "'''\n",
    "\n",
    "\n",
    "from __future__ import unicode_literals\n",
    "from wxpy import *\n",
    "import requests\n",
    "from threading import Timer\n",
    "\n",
    "itchat = Bot(console_qr=2,cache_path=\"botoo.pkl\")\n",
    "def getNews():\n",
    "    url = \"http://open.iciba.com/dsapi/\"\n",
    "    r = requests.get(url)\n",
    "    content = r.json()['content']\n",
    "    note = r.json()['note']\n",
    "    return content, note\n",
    "\n",
    "def sendNews():\n",
    "    try:\n",
    "        #这里是备注\n",
    "        friend = itchat.friends().search(name = u'xxx')\n",
    "\n",
    "        content = getNews()\n",
    "        print(content)\n",
    "        message1 = str(content[0])\n",
    "        message2 = str(content[1])\n",
    "        message3 = \"xxx\"\n",
    "        print(friend)\n",
    "\n",
    "        for index,item in enumerate(friend):\n",
    "\n",
    "\n",
    "            print(\"发送给 \"+str(item)+\" ing,index=\"+str(index))\n",
    "            item.send(message1)\n",
    "            item.send(message2)\n",
    "            item.send(message3)\n",
    "\n",
    "        t = Timer(86400,sendNews)\n",
    "        t.start()\n",
    "    except:\n",
    "        errorMessage = \"xxx\"\n",
    "        for index,item in enumerate(friend):\n",
    "            item.send(errorMessage)\n",
    "\n",
    "\n",
    "if __name__ == \"__main__\":\n",
    "    sendNews()\n"
   ]
  },
  {
   "cell_type": "code",
   "execution_count": 8,
   "metadata": {},
   "outputs": [
    {
     "name": "stdout",
     "output_type": "stream",
     "text": [
      "a\n"
     ]
    }
   ],
   "source": [
    "print(list1[0])"
   ]
  },
  {
   "cell_type": "code",
   "execution_count": 11,
   "metadata": {},
   "outputs": [],
   "source": [
    "str2 = str(list1[0])"
   ]
  },
  {
   "cell_type": "code",
   "execution_count": null,
   "metadata": {},
   "outputs": [],
   "source": [
    "#-*-coding:utf8-*-\n",
    "import itchat\n",
    "import datetime, os, platform,time\n",
    "\n",
    "def timerfun(sched_time) :\n",
    "    flag = 0\n",
    "    while True:\n",
    "        now = datetime.datetime.now()\n",
    "        if now > sched_time and now < sched_time + datetime.timedelta(seconds=1) :  # 因为时间秒之后的小数部分不一定相等，要标记一个范围判断\n",
    "            send_move()\n",
    "            time.sleep(1)    # 每次判断间隔1s，避免多次触发事件\n",
    "            flag = 1\n",
    "        else :\n",
    "            #print('schedual time is {0}'.format(sched_time))\n",
    "            #print('now is {0}'.format(now))\n",
    "            if flag == 1 :\n",
    "                sched_time = sched_time + datetime.timedelta(hours=1)  # 把目标时间增加一个小时，一个小时后触发再次执行\n",
    "                flag = 0\n",
    "\n",
    "def send_move():\n",
    "    # nickname = input('please input your firends\\' nickname : ' )\n",
    "    #   想给谁发信息，先查找到这个朋友,name后填微信备注即可,deepin测试成功\n",
    "    # users = itchat.search_friends(name=nickname)\n",
    "    users = itchat.search_friends(name='大壮')   # 使用备注名来查找实际用户名\n",
    "    #获取好友全部信息,返回一个列表,列表内是一个字典\n",
    "    print(users)\n",
    "    #获取`UserName`,用于发送消息\n",
    "    userName = users[0]['UserName']\n",
    "    itchat.send(\"该起来动一下了！\",toUserName = userName)\n",
    "    print('succeed')\n",
    "\n",
    "if __name__=='__main__':\n",
    "    itchat.auto_login(hotReload=True)  # 首次扫描登录后后续自动登录\n",
    "    sched_time = datetime.datetime(2017,11,6,16,24,10)   #设定初次触发事件的事件点\n",
    "    print('run the timer task at {0}'.format(sched_time))\n",
    "    timerfun(sched_time)"
   ]
  },
  {
   "cell_type": "code",
   "execution_count": null,
   "metadata": {},
   "outputs": [],
   "source": []
  },
  {
   "cell_type": "code",
   "execution_count": null,
   "metadata": {},
   "outputs": [],
   "source": []
  }
 ],
 "metadata": {
  "kernelspec": {
   "display_name": "Python 3",
   "language": "python",
   "name": "python3"
  },
  "language_info": {
   "codemirror_mode": {
    "name": "ipython",
    "version": 3
   },
   "file_extension": ".py",
   "mimetype": "text/x-python",
   "name": "python",
   "nbconvert_exporter": "python",
   "pygments_lexer": "ipython3",
   "version": "3.6.4"
  }
 },
 "nbformat": 4,
 "nbformat_minor": 2
}
