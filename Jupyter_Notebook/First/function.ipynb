{
 "cells": [
  {
   "cell_type": "code",
   "execution_count": 4,
   "metadata": {},
   "outputs": [
    {
     "name": "stdout",
     "output_type": "stream",
     "text": [
      "6\n"
     ]
    }
   ],
   "source": [
    "def sum(num1, num2):\n",
    "    if not (isinstance(num1, (int, float)) and isinstance(num2, (int, float))):\n",
    "        raise TypeError('error type')\n",
    "    return num1 + num2\n",
    "\n",
    "# call function\n",
    "print(sum(1, 5))"
   ]
  },
  {
   "cell_type": "code",
   "execution_count": 6,
   "metadata": {},
   "outputs": [
    {
     "name": "stdout",
     "output_type": "stream",
     "text": [
      "2.0 1\n",
      "(2.0, 1)\n"
     ]
    }
   ],
   "source": [
    "# -*-coding:utf-8 -*-\n",
    "\n",
    "def division(num1, num2):\n",
    "        a = num1 % num2\n",
    "        b = (num1-a) / num2\n",
    "        return b, a\n",
    "\n",
    "num1, num2 = division(9, 4)\n",
    "tuple1 = division(9, 4)\n",
    "print(num1, num2)\n",
    "print(tuple1)"
   ]
  },
  {
   "cell_type": "code",
   "execution_count": 8,
   "metadata": {},
   "outputs": [
    {
     "name": "stdout",
     "output_type": "stream",
     "text": [
      "昵称:两点水 年龄:18 性别:female\n",
      "昵称:三点水 年龄:25 性别:男\n"
     ]
    }
   ],
   "source": [
    "def print_user_info(name, age, sex = \"男\"):\n",
    "    print('昵称:{}'.format(name), end = ' ')\n",
    "    print('年龄:{}'.format(age), end = ' ')\n",
    "    print('性别:{}'.format(sex))\n",
    "\n",
    "print_user_info('两点水', 18, 'female')\n",
    "print_user_info('三点水', 25)"
   ]
  },
  {
   "cell_type": "code",
   "execution_count": 15,
   "metadata": {},
   "outputs": [
    {
     "name": "stdout",
     "output_type": "stream",
     "text": [
      "b no assign\n"
     ]
    }
   ],
   "source": [
    "def print_info(a, b = None):\n",
    "        if b is None :\n",
    "            print('b no assign')\n",
    "        return\n",
    "\n",
    "print_info(1)"
   ]
  },
  {
   "cell_type": "code",
   "execution_count": 19,
   "metadata": {},
   "outputs": [
    {
     "name": "stdout",
     "output_type": "stream",
     "text": [
      "昵称：两点水 年龄：18 性别：女 爱好：{'hobby': ('打篮球', '打羽毛球', '跑步')}\n"
     ]
    }
   ],
   "source": [
    "# -*- coding: UTF-8 -*-\n",
    "\n",
    "def print_user_info( name ,  age  , sex = '男' , **hobby ):\n",
    "    # 打印用户信息\n",
    "    print('昵称：{}'.format(name) , end = ' ')\n",
    "    print('年龄：{}'.format(age) , end = ' ')\n",
    "    print('性别：{}'.format(sex) ,end = ' ' )\n",
    "    print('爱好：{}'.format(hobby))\n",
    "    return;\n",
    "\n",
    "# 调用 print_user_info 函数\n",
    "print_user_info( name = '两点水' , age = 18 , sex = '女', hobby = ('打篮球','打羽毛球','跑步'))"
   ]
  },
  {
   "cell_type": "code",
   "execution_count": 20,
   "metadata": {},
   "outputs": [
    {
     "name": "stdout",
     "output_type": "stream",
     "text": [
      "4\n",
      "5\n"
     ]
    }
   ],
   "source": [
    "sum = lambda num1 , num2 : num1 + num2;\n",
    "\n",
    "print(sum(1, 3))\n",
    "print(sum(1, 4))"
   ]
  },
  {
   "cell_type": "code",
   "execution_count": null,
   "metadata": {},
   "outputs": [],
   "source": []
  }
 ],
 "metadata": {
  "kernelspec": {
   "display_name": "Python 3",
   "language": "python",
   "name": "python3"
  },
  "language_info": {
   "codemirror_mode": {
    "name": "ipython",
    "version": 3
   },
   "file_extension": ".py",
   "mimetype": "text/x-python",
   "name": "python",
   "nbconvert_exporter": "python",
   "pygments_lexer": "ipython3",
   "version": "3.6.4"
  }
 },
 "nbformat": 4,
 "nbformat_minor": 2
}
