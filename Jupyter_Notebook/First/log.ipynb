{
 "cells": [
  {
   "cell_type": "code",
   "execution_count": 2,
   "metadata": {},
   "outputs": [
    {
     "name": "stderr",
     "output_type": "stream",
     "text": [
      "WARNING:root:This is a warning message\n",
      "ERROR:root:This is a error message\n",
      "CRITICAL:root:This is a critical message\n"
     ]
    }
   ],
   "source": [
    "# -*- coding:utf-8 -*-\n",
    "\n",
    "import logging\n",
    "logging.debug('This is a debug message')\n",
    "logging.info('This is a info message')\n",
    "logging.warning('This is a warning message')\n",
    "logging.error('This is a error message')\n",
    "logging.critical('This is a critical message')"
   ]
  },
  {
   "cell_type": "code",
   "execution_count": 3,
   "metadata": {},
   "outputs": [
    {
     "name": "stderr",
     "output_type": "stream",
     "text": [
      "ERROR:root:John raised an error\n"
     ]
    }
   ],
   "source": [
    "name = 'John'\n",
    "\n",
    "logging.error('%s raised an error', name)"
   ]
  },
  {
   "cell_type": "code",
   "execution_count": 4,
   "metadata": {},
   "outputs": [
    {
     "name": "stderr",
     "output_type": "stream",
     "text": [
      "ERROR:root:John raised an error\n"
     ]
    }
   ],
   "source": [
    "name = 'John'\n",
    "\n",
    "logging.error(f'{name} raised an error')"
   ]
  },
  {
   "cell_type": "code",
   "execution_count": 5,
   "metadata": {},
   "outputs": [],
   "source": [
    "import yaml"
   ]
  },
  {
   "cell_type": "code",
   "execution_count": 5,
   "metadata": {},
   "outputs": [
    {
     "name": "stdout",
     "output_type": "stream",
     "text": [
      "2018-10-26 23:31:33 [root] [INFO] :20: jhaa\n",
      "NoneType: None\n"
     ]
    }
   ],
   "source": [
    "# -*- coding:utf-8 -*-\n",
    "\n",
    "import os\n",
    "import logging.config\n",
    "import yaml\n",
    "\n",
    "def setup_logging(default_path='logging.yaml', default_level=logging.INFO):\n",
    "    \"\"\"\n",
    "    Setup logging configuration\n",
    "    \"\"\"\n",
    "    path = default_path\n",
    "    if os.path.exists(path):\n",
    "        with open(path, 'rt') as f:\n",
    "            config = yaml.safe_load(f.read())\n",
    "        logging.config.dictConfig(config)\n",
    "    else:\n",
    "        logging.basicConfig(level=default_level)\n",
    "        print('the input path doesn\\'t exist')\n",
    "\n",
    "\n",
    "if '__main__' == __name__:\n",
    "    setup_logging(default_path='logging.yaml')\n",
    "    # default root logger\n",
    "    logger = logging.getLogger()\n",
    "    logging.info('jhaa', exc_info=True)\n",
    "\n",
    "\n",
    "\n",
    "\n",
    "\n"
   ]
  },
  {
   "cell_type": "code",
   "execution_count": null,
   "metadata": {},
   "outputs": [],
   "source": []
  }
 ],
 "metadata": {
  "kernelspec": {
   "display_name": "Python 3",
   "language": "python",
   "name": "python3"
  },
  "language_info": {
   "codemirror_mode": {
    "name": "ipython",
    "version": 3
   },
   "file_extension": ".py",
   "mimetype": "text/x-python",
   "name": "python",
   "nbconvert_exporter": "python",
   "pygments_lexer": "ipython3",
   "version": "3.6.4"
  }
 },
 "nbformat": 4,
 "nbformat_minor": 2
}
