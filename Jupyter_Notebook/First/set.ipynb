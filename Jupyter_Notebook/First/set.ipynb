{
 "cells": [
  {
   "cell_type": "code",
   "execution_count": 2,
   "metadata": {},
   "outputs": [
    {
     "name": "stdout",
     "output_type": "stream",
     "text": [
      "{456, 123, 789}\n"
     ]
    }
   ],
   "source": [
    "set1 = set([123, 456, 789])\n",
    "print(set1)"
   ]
  },
  {
   "cell_type": "code",
   "execution_count": 4,
   "metadata": {},
   "outputs": [
    {
     "name": "stdout",
     "output_type": "stream",
     "text": [
      "{456, 123, 100, 789}\n"
     ]
    }
   ],
   "source": [
    "set1.add(100)\n",
    "print(set1)"
   ]
  },
  {
   "cell_type": "code",
   "execution_count": 5,
   "metadata": {},
   "outputs": [
    {
     "name": "stdout",
     "output_type": "stream",
     "text": [
      "{123, 100, 789}\n"
     ]
    }
   ],
   "source": [
    "set1.remove(456)\n",
    "print(set1)"
   ]
  },
  {
   "cell_type": "code",
   "execution_count": 6,
   "metadata": {},
   "outputs": [
    {
     "name": "stdout",
     "output_type": "stream",
     "text": [
      "{'o', 'l', 'h', 'e'}\n",
      "{'p', 'h', 'o', 'y', 'n'}\n",
      "\n",
      "交集 set3:\n",
      "{'o', 'h'}\n",
      "\n",
      "并集 set4:\n",
      "{'p', 'h', 'o', 'l', 'e', 'y', 'n'}\n",
      "\n",
      "差集 set5:\n",
      "{'l', 'e'}\n",
      "\n",
      "差集 set6:\n",
      "{'p', 'y', 'n'}\n",
      "\n",
      "去除列表里重复元素 set7:\n",
      "{555, 333, 111, 666, 444, 222}\n"
     ]
    }
   ],
   "source": [
    "set1=set('hello')\n",
    "set2=set(['p','y','y','h','o','n'])\n",
    "print(set1)\n",
    "print(set2)\n",
    "\n",
    "# 交集 (求两个 set 集合中相同的元素)\n",
    "set3=set1 & set2\n",
    "print('\\n交集 set3:')\n",
    "print(set3)\n",
    "# 并集 （合并两个 set 集合的元素并去除重复的值）\n",
    "set4=set1 | set2\n",
    "print('\\n并集 set4:')\n",
    "print(set4)\n",
    "# 差集\n",
    "set5=set1 - set2\n",
    "set6=set2 - set1\n",
    "print('\\n差集 set5:')\n",
    "print(set5)\n",
    "print('\\n差集 set6:')\n",
    "print( set6)\n",
    "\n",
    "\n",
    "# 去除海量列表里重复元素，用 hash 来解决也行，只不过感觉在性能上不是很高，用 set 解决还是很不错的\n",
    "list1 = [111,222,333,444,111,222,333,444,555,666]  \n",
    "set7=set(list1)\n",
    "print('\\n去除列表里重复元素 set7:')\n",
    "print(set7)"
   ]
  }
 ],
 "metadata": {
  "kernelspec": {
   "display_name": "Python 3",
   "language": "python",
   "name": "python3"
  },
  "language_info": {
   "codemirror_mode": {
    "name": "ipython",
    "version": 3
   },
   "file_extension": ".py",
   "mimetype": "text/x-python",
   "name": "python",
   "nbconvert_exporter": "python",
   "pygments_lexer": "ipython3",
   "version": "3.6.4"
  }
 },
 "nbformat": 4,
 "nbformat_minor": 2
}
