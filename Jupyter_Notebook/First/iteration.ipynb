{
 "cells": [
  {
   "cell_type": "code",
   "execution_count": 3,
   "metadata": {},
   "outputs": [
    {
     "name": "stdout",
     "output_type": "stream",
     "text": [
      "l i a n g d i a n s h u i \n",
      "\n",
      "1 2 3 4 5 \n",
      "\n",
      "name age sex \n",
      "\n",
      "两点水 23 男 \n",
      "\n",
      "1 a\n",
      "2 b\n",
      "3 c\n"
     ]
    }
   ],
   "source": [
    "# -*- coding: UTF-8 -*-\n",
    "\n",
    "# 1、for 循环迭代字符串\n",
    "for char in 'liangdianshui' :\n",
    "    print ( char , end = ' ' )\n",
    "\n",
    "print('\\n')\n",
    "\n",
    "# 2、for 循环迭代 list\n",
    "list1 = [1,2,3,4,5]\n",
    "for num1 in list1 :\n",
    "    print ( num1 , end = ' ' )\n",
    "\n",
    "print('\\n')\n",
    "\n",
    "# 3、for 循环也可以迭代 dict （字典）\n",
    "dict1 = {'name':'两点水','age':'23','sex':'男'}\n",
    "\n",
    "for key in dict1 :    # 迭代 dict 中的 key\n",
    "    print ( key , end = ' ' )\n",
    "\n",
    "print('\\n')\n",
    "\n",
    "for value in dict1.values() :   # 迭代 dict 中的 value\n",
    "\tprint ( value , end = ' ' )\n",
    "\n",
    "print ('\\n')\n",
    "\n",
    "# 如果 list 里面一个元素有两个变量，也是很容易迭代的\n",
    "for x , y in [ (1,'a') , (2,'b') , (3,'c') ] :\n",
    "\tprint ( x , y )"
   ]
  },
  {
   "cell_type": "code",
   "execution_count": 7,
   "metadata": {},
   "outputs": [
    {
     "name": "stdout",
     "output_type": "stream",
     "text": [
      "v i n c e n t l e e 1\n",
      "2\n",
      "3\n",
      "4\n"
     ]
    }
   ],
   "source": [
    "str1 = 'vincentlee'\n",
    "iter1 = iter(str1)\n",
    "\n",
    "for x in iter1:\n",
    "    print(x, end = ' ')\n",
    "    \n",
    "tuple1 = (1, 2, 3, 4)\n",
    "iter3 = iter(tuple1)\n",
    "\n",
    "while True:\n",
    "    try:\n",
    "        print(next(iter3))\n",
    "    except StopIteration:\n",
    "        break"
   ]
  },
  {
   "cell_type": "code",
   "execution_count": 9,
   "metadata": {},
   "outputs": [
    {
     "name": "stdout",
     "output_type": "stream",
     "text": [
      "[1, 2, 3, 4, 5, 6, 7, 8, 9, 10, 11, 12, 13, 14, 15, 16, 17, 18, 19, 20, 21, 22, 23, 24, 25, 26, 27, 28, 29, 30]\n"
     ]
    }
   ],
   "source": [
    "list1 = list(range(1, 31))\n",
    "print(list1)"
   ]
  },
  {
   "cell_type": "code",
   "execution_count": 13,
   "metadata": {},
   "outputs": [
    {
     "name": "stdout",
     "output_type": "stream",
     "text": [
      "[0, 1, 2]\n"
     ]
    }
   ],
   "source": [
    "list1 = [x for x in range(3)]\n",
    "print(list1)"
   ]
  },
  {
   "cell_type": "code",
   "execution_count": 14,
   "metadata": {},
   "outputs": [
    {
     "name": "stdout",
     "output_type": "stream",
     "text": [
      "<generator object <genexpr> at 0x0000008E6620AD00>\n"
     ]
    }
   ],
   "source": [
    "gen = (x * x for x in range(10))\n",
    "print(gen)"
   ]
  },
  {
   "cell_type": "code",
   "execution_count": 17,
   "metadata": {},
   "outputs": [
    {
     "name": "stdout",
     "output_type": "stream",
     "text": [
      "0\n",
      "1\n",
      "2\n",
      "3\n",
      "4\n",
      "5\n",
      "6\n",
      "7\n",
      "8\n",
      "9\n"
     ]
    }
   ],
   "source": [
    "def my_function():\n",
    "    for i in range(10):\n",
    "        yield i\n",
    "        \n",
    "for x in my_function():\n",
    "    print(x)"
   ]
  },
  {
   "cell_type": "code",
   "execution_count": 19,
   "metadata": {},
   "outputs": [
    {
     "name": "stdout",
     "output_type": "stream",
     "text": [
      "1 2\n"
     ]
    }
   ],
   "source": [
    "a = b = 1\n",
    "a, b = b, a + b\n",
    "print(a, b)"
   ]
  },
  {
   "cell_type": "code",
   "execution_count": 24,
   "metadata": {},
   "outputs": [
    {
     "name": "stdout",
     "output_type": "stream",
     "text": [
      "step 1\n",
      "1\n",
      "step 2\n",
      "3\n",
      "step 3\n",
      "5\n"
     ]
    }
   ],
   "source": [
    "# -*- coding: UTF-8 -*-\n",
    "def odd():\n",
    "    print ( 'step 1' )\n",
    "    yield ( 1 )\n",
    "    print ( 'step 2' )\n",
    "    yield ( 3 )\n",
    "    print ( 'step 3' )\n",
    "    yield ( 5 )\n",
    "\n",
    "o = odd()\n",
    "print( next( o ) )\n",
    "print( next( o ) )\n",
    "print( next( o ) )"
   ]
  },
  {
   "cell_type": "code",
   "execution_count": 30,
   "metadata": {},
   "outputs": [
    {
     "name": "stdout",
     "output_type": "stream",
     "text": [
      "[0, 1]\n",
      "[1, 1]\n"
     ]
    }
   ],
   "source": [
    "L = [1]\n",
    "L.append(0)\n",
    "x = list(range(len(L)))\n",
    "print(x)\n",
    "\n",
    "L = [ L [ i -1 ] + L [ i ] for i in range (len(L))]\n",
    "print(L)"
   ]
  },
  {
   "cell_type": "code",
   "execution_count": null,
   "metadata": {},
   "outputs": [],
   "source": []
  }
 ],
 "metadata": {
  "kernelspec": {
   "display_name": "Python 3",
   "language": "python",
   "name": "python3"
  },
  "language_info": {
   "codemirror_mode": {
    "name": "ipython",
    "version": 3
   },
   "file_extension": ".py",
   "mimetype": "text/x-python",
   "name": "python",
   "nbconvert_exporter": "python",
   "pygments_lexer": "ipython3",
   "version": "3.6.4"
  }
 },
 "nbformat": 4,
 "nbformat_minor": 2
}
