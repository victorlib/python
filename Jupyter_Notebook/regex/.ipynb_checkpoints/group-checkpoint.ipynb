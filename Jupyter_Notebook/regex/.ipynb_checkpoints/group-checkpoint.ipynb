{
 "cells": [
  {
   "cell_type": "code",
   "execution_count": 86,
   "metadata": {},
   "outputs": [
    {
     "name": "stdout",
     "output_type": "stream",
     "text": [
      "['sa[0]', 'sa[1]', 'sa[2]', 'sa[3]']\n",
      "['_T(\"liwenxing\")', '_T(\"111\")', '_T(\"2222\")', '_T(\"333\")']\n"
     ]
    }
   ],
   "source": [
    "def trim(s):\n",
    "      if s[:1] !=' ' and s[-1:] !=' ':\n",
    "          return s\n",
    "      elif s[:1] ==' ':\n",
    "          return trim(s[1:])\n",
    "      else:\n",
    "          return trim(s[:-1])\n",
    "\n",
    "f2 = open('data2.txt', 'r')\n",
    "data = f2.readlines()\n",
    "list1 = []\n",
    "list2 = []\n",
    "for line in data:\n",
    "    last = line.split('=')\n",
    "    if last:\n",
    "        str1 = last[0].replace('\\n', '')\n",
    "        str2 = last[1].replace('\\n', '')\n",
    "        str1 = str1.replace(\" \", \"\")\n",
    "        str2 = str2.replace(\" \", \"\")\n",
    "        list1.append(str1)\n",
    "        list2.append(str2)\n",
    "\n",
    "print(list1)\n",
    "print(list2)\n",
    "\n",
    "f = open('data1.txt', 'r')\n",
    "f2 = open('data3.txt', 'w')\n",
    "\n",
    "\n",
    "data = f.readlines()\n",
    "f.close()\n",
    "\n",
    "for line in data:\n",
    "    kwrite = True\n",
    "    for index in range(len(list2)):\n",
    "        if list2[index] in line:\n",
    "            line = line.replace(list2[index], 'pointer->'+list1[index])\n",
    "            print(line)\n",
    "            f2.write(line)\n",
    "            kwrite = False\n",
    "    if (kwrite):\n",
    "        f2.write(line)\n",
    "        \n",
    "\n"
   ]
  },
  {
   "cell_type": "code",
   "execution_count": 88,
   "metadata": {},
   "outputs": [
    {
     "name": "stdout",
     "output_type": "stream",
     "text": [
      "sdfasfs =pointer->sa[0];\n"
     ]
    }
   ],
   "source": [
    "\n",
    "f2.close()\n"
   ]
  },
  {
   "cell_type": "code",
   "execution_count": null,
   "metadata": {},
   "outputs": [],
   "source": []
  }
 ],
 "metadata": {
  "kernelspec": {
   "display_name": "Python 3",
   "language": "python",
   "name": "python3"
  },
  "language_info": {
   "codemirror_mode": {
    "name": "ipython",
    "version": 3
   },
   "file_extension": ".py",
   "mimetype": "text/x-python",
   "name": "python",
   "nbconvert_exporter": "python",
   "pygments_lexer": "ipython3",
   "version": "3.6.4"
  }
 },
 "nbformat": 4,
 "nbformat_minor": 2
}
