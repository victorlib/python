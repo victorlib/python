{
 "cells": [
  {
   "cell_type": "code",
   "execution_count": 2,
   "metadata": {},
   "outputs": [],
   "source": [
    "import re"
   ]
  },
  {
   "cell_type": "markdown",
   "metadata": {},
   "source": [
    "1. \".\"： 匹配除\"\\n\"之外的任何单个字符,若要匹配包括\"\\n\"在内的任意字符,需使用诸如\"[\\s\\S]\"之类的模式；"
   ]
  },
  {
   "cell_type": "code",
   "execution_count": 6,
   "metadata": {},
   "outputs": [
    {
     "name": "stdout",
     "output_type": "stream",
     "text": [
      "abcd\n"
     ]
    }
   ],
   "source": [
    "regex_str = 'abc*d'\n",
    "line = 'abcdacdb'\n",
    "ret = re.compile(regex_str)\n",
    "m = ret.match(line)\n",
    "print(m.group())"
   ]
  },
  {
   "cell_type": "markdown",
   "metadata": {},
   "source": [
    "2. \"^\"： 匹配输入字符串的开始位置,不匹配任何字符,要匹配\"^\"字符本身,需使用\"\\^\"；"
   ]
  },
  {
   "cell_type": "code",
   "execution_count": 11,
   "metadata": {},
   "outputs": [
    {
     "name": "stdout",
     "output_type": "stream",
     "text": [
      "1234aZdsdfljsdlfjs\n"
     ]
    }
   ],
   "source": [
    "regex_str = '^[0-9]{4}[a-zA-Z]*'\n",
    "line = '1234aZdsdfljsdlfjs'\n",
    "ret = re.compile(regex_str)\n",
    "m = ret.match(line)\n",
    "if m:\n",
    "    print(m.group())"
   ]
  },
  {
   "cell_type": "code",
   "execution_count": null,
   "metadata": {},
   "outputs": [],
   "source": []
  }
 ],
 "metadata": {
  "kernelspec": {
   "display_name": "Python 3",
   "language": "python",
   "name": "python3"
  },
  "language_info": {
   "codemirror_mode": {
    "name": "ipython",
    "version": 3
   },
   "file_extension": ".py",
   "mimetype": "text/x-python",
   "name": "python",
   "nbconvert_exporter": "python",
   "pygments_lexer": "ipython3",
   "version": "3.6.4"
  }
 },
 "nbformat": 4,
 "nbformat_minor": 2
}
