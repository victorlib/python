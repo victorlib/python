{
 "cells": [
  {
   "cell_type": "markdown",
   "metadata": {},
   "source": [
    "### 你想获取文件系统中某个目录下的所有文件列表。"
   ]
  },
  {
   "cell_type": "code",
   "execution_count": 6,
   "metadata": {},
   "outputs": [
    {
     "name": "stdout",
     "output_type": "stream",
     "text": [
      "['data.bin', 'newsample.bin', 'none', 'sample.bin', 'sample.txt', 'somefil.txt', 'somefile.bin', 'somefile.bz2', 'somefile.data', 'somefile.gz', 'somefile.txt']\n"
     ]
    }
   ],
   "source": [
    "import os\n",
    "names = os.listdir('data')\n",
    "print(names)"
   ]
  },
  {
   "cell_type": "markdown",
   "metadata": {},
   "source": [
    "### 结果会返回目录中所有文件列表，包括所有文件，子目录，符号链接等等。如果你需要通过某种方式过滤数据，可以考虑结合os.path 库中的一些函数来使用列表推导。比如："
   ]
  },
  {
   "cell_type": "code",
   "execution_count": 5,
   "metadata": {},
   "outputs": [
    {
     "name": "stdout",
     "output_type": "stream",
     "text": [
      "['data.bin', 'newsample.bin', 'sample.bin', 'sample.txt', 'somefil.txt', 'somefile.bin', 'somefile.bz2', 'somefile.data', 'somefile.gz', 'somefile.txt']\n"
     ]
    }
   ],
   "source": [
    "import os.path\n",
    "\n",
    "# Get all regular files\n",
    "names = [name for name in os.listdir('data')\n",
    "        if os.path.isfile(os.path.join('data', name))]\n",
    "print(names)"
   ]
  },
  {
   "cell_type": "code",
   "execution_count": 7,
   "metadata": {},
   "outputs": [
    {
     "name": "stdout",
     "output_type": "stream",
     "text": [
      "['none']\n"
     ]
    }
   ],
   "source": [
    "# Get all dirs\n",
    "dirnames = [name for name in os.listdir('data')\n",
    "           if os.path.isdir(os.path.join('data', name))]\n",
    "print(dirnames)"
   ]
  },
  {
   "cell_type": "markdown",
   "metadata": {},
   "source": [
    "### 字符串的startswith() 和endswith() 方法对于过滤一个目录的内容也是很有用的。比如：\n"
   ]
  },
  {
   "cell_type": "code",
   "execution_count": 9,
   "metadata": {},
   "outputs": [
    {
     "name": "stdout",
     "output_type": "stream",
     "text": [
      "['sample.txt', 'somefil.txt', 'somefile.txt']\n"
     ]
    }
   ],
   "source": [
    "txtfiles = [name for name in os.listdir('data')\n",
    "           if name.endswith('.txt')]\n",
    "print(txtfiles)"
   ]
  },
  {
   "cell_type": "markdown",
   "metadata": {},
   "source": [
    "#### 对于文件名的匹配，你可能会考虑使用glob 或fnmatch 模块。比如："
   ]
  },
  {
   "cell_type": "code",
   "execution_count": 13,
   "metadata": {},
   "outputs": [
    {
     "name": "stdout",
     "output_type": "stream",
     "text": [
      "['data\\\\sample.txt', 'data\\\\somefil.txt', 'data\\\\somefile.txt']\n",
      "['sample.txt', 'somefil.txt', 'somefile.txt']\n"
     ]
    }
   ],
   "source": [
    "import glob\n",
    "pyfiles = glob.glob('data/*.txt')\n",
    "print(pyfiles)\n",
    "\n",
    "from fnmatch import fnmatch\n",
    "pyfiles = [name for name in os.listdir('data')\n",
    "          if fnmatch(name, '*.txt')]\n",
    "print(pyfiles)"
   ]
  },
  {
   "cell_type": "markdown",
   "metadata": {},
   "source": [
    "### 获取目录中的列表是很容易的，但是其返回结果只是目录中实体名列表而已。如果你还想获取其他的元信息，比如文件大小，修改时间等等，你或许还需要使用到os.path 模块中的函数或着os.stat() 函数来收集数据。比如："
   ]
  },
  {
   "cell_type": "code",
   "execution_count": 18,
   "metadata": {},
   "outputs": [
    {
     "name": "stdout",
     "output_type": "stream",
     "text": [
      "data\\sample.txt 30 Mon Nov  6 22:57:17 2017\n",
      "data\\somefil.txt 7 Sun Dec  9 03:52:58 2018\n",
      "data\\somefile.txt 7 Sun Dec  9 18:37:05 2018\n",
      "data\\sample.txt 30 Mon Nov  6 22:57:17 2017\n",
      "data\\somefil.txt 7 Sun Dec  9 03:52:58 2018\n",
      "data\\somefile.txt 7 Sun Dec  9 18:37:05 2018\n"
     ]
    }
   ],
   "source": [
    "# Exmaple of getting a directory listing\n",
    "import time\n",
    "#time.ctime(os.path.getmtime('data'))\n",
    "import os\n",
    "import os.path\n",
    "import glob\n",
    "\n",
    "txtfiles = glob.glob('data/*.txt')\n",
    "\n",
    "# Get file sizes and modification dates\n",
    "name_sz_data = [(name, os.path.getsize(name), os.path.getmtime(name))\n",
    "               for name in txtfiles]\n",
    "for name, size, mtime in name_sz_data:\n",
    "    print(name, size, time.ctime(mtime))\n",
    "    \n",
    "# Alternative: Get file metadata\n",
    "file_metadata = [(name, os.stat(name)) for name in txtfiles]\n",
    "for name, meta in file_metadata:\n",
    "    print(name, meta.st_size, time.ctime(meta.st_mtime))"
   ]
  },
  {
   "cell_type": "markdown",
   "metadata": {},
   "source": [
    "### 5.14 忽略文件名编码"
   ]
  },
  {
   "cell_type": "code",
   "execution_count": 4,
   "metadata": {},
   "outputs": [
    {
     "data": {
      "text/plain": [
       "'utf-8'"
      ]
     },
     "execution_count": 4,
     "metadata": {},
     "output_type": "execute_result"
    }
   ],
   "source": [
    "import sys\n",
    "sys.getfilesystemencoding()"
   ]
  },
  {
   "cell_type": "code",
   "execution_count": 5,
   "metadata": {},
   "outputs": [],
   "source": [
    "# Write a file using a unicode filename\n",
    "with open('data/somefile.txt', 'w')  as f:\n",
    "    f.write('Spicy!')"
   ]
  },
  {
   "cell_type": "code",
   "execution_count": 6,
   "metadata": {},
   "outputs": [
    {
     "data": {
      "text/plain": [
       "['.ipynb_checkpoints',\n",
       " '13-16.ipynb',\n",
       " '5-8.ipynb',\n",
       " '9-12.ipynb',\n",
       " 'data',\n",
       " 'markdown',\n",
       " 'python',\n",
       " 'read_and_wirte_byte_data.ipynb']"
      ]
     },
     "execution_count": 6,
     "metadata": {},
     "output_type": "execute_result"
    }
   ],
   "source": [
    "# Directory listing (decoded)\n",
    "import os\n",
    "os.listdir('.')"
   ]
  },
  {
   "cell_type": "code",
   "execution_count": 10,
   "metadata": {},
   "outputs": [
    {
     "name": "stdout",
     "output_type": "stream",
     "text": [
      "Spicy!\n"
     ]
    }
   ],
   "source": [
    "# Directory listing (raw)\n",
    "os.listdir(b'./data') # Note: byte string\n",
    "# Open file with raw filename\n",
    "with open(b'data/somefile.txt') as f:\n",
    "    print(f.read())\n"
   ]
  },
  {
   "cell_type": "markdown",
   "metadata": {},
   "source": [
    "正如你所见，在最后两个操作中，当你给文件相关函数如open() 和os.listdir()\n",
    "传递字节字符串时，文件名的处理方式会稍有不同。\n",
    "讨论\n",
    "通常来讲，你不需要担心文件名的编码和解码，普通的文件名操作应该就没问题了。但是，有些操作系统允许用户通过偶然或恶意方式去创建名字不符合默认编码的文件。这些文件名可能会神秘地中断那些需要处理大量文件的Python 程序。读取目录并通过原始未解码方式处理文件名可以有效的避免这样的问题，尽管这样会带来一定的编程难度。"
   ]
  },
  {
   "cell_type": "markdown",
   "metadata": {},
   "source": [
    "### 5.15 打印不合法的文件名\n",
    "你的程序获取了一个目录中的文件名列表，但是当它试着去打印文件名的时候\n",
    "程序崩溃，出现了UnicodeEncodeError 异常和一条奇怪的消息——surrogates not\n",
    "allowed 。"
   ]
  },
  {
   "cell_type": "code",
   "execution_count": null,
   "metadata": {},
   "outputs": [],
   "source": [
    "def bad_filename(filename):\n",
    "    temp = filename.encode(sys.getfilesystemencoding(), errors='surrogateescape')\n",
    "    return temp.decode('latin-1')"
   ]
  },
  {
   "cell_type": "markdown",
   "metadata": {},
   "source": [
    "surrogateescape:\n",
    "这种是 Python 在绝大部分面向 OS 的 API 中所使用的错误处理器， 它能以一种优雅的方式处理由操作系统提供的数据的编码问题。 在解码出错时会将出错字节存储到一个很少被使用到的 \n",
    "Unicode 编码范围内。 在编码时将那些隐藏值又还原回原先解码失败的字节序列。\n",
    "它不仅对于  OS API 非常有用，也能很容易的处理其他情况下的编码"
   ]
  },
  {
   "cell_type": "code",
   "execution_count": 16,
   "metadata": {},
   "outputs": [
    {
     "name": "stdout",
     "output_type": "stream",
     "text": [
      "['data.bin', 'newsample.bin', 'none', 'sample.bin', 'sample.txt', 'somefil.txt', 'somefile.bin', 'somefile.bz2', 'somefile.data', 'somefile.gz', 'somefile.txt']\n",
      "data.bin\n",
      "newsample.bin\n",
      "none\n",
      "sample.bin\n",
      "sample.txt\n",
      "somefil.txt\n",
      "somefile.bin\n",
      "somefile.bz2\n",
      "somefile.data\n",
      "somefile.gz\n",
      "somefile.txt\n"
     ]
    }
   ],
   "source": [
    "files = os.listdir('data/')\n",
    "print(files)\n",
    "\n",
    "for name in files:\n",
    "    try:\n",
    "        print(name)\n",
    "    except UnicodeEncodeError:\n",
    "        print(bad_filename(name))\n"
   ]
  },
  {
   "cell_type": "markdown",
   "metadata": {},
   "source": [
    "### 5.16 增加或改变已打开文件的编码"
   ]
  },
  {
   "cell_type": "code",
   "execution_count": 21,
   "metadata": {},
   "outputs": [
    {
     "ename": "UnsupportedOperation",
     "evalue": "detach",
     "output_type": "error",
     "traceback": [
      "\u001b[1;31m---------------------------------------------------------------------------\u001b[0m",
      "\u001b[1;31mUnsupportedOperation\u001b[0m                      Traceback (most recent call last)",
      "\u001b[1;32m<ipython-input-21-77b369e73728>\u001b[0m in \u001b[0;36m<module>\u001b[1;34m()\u001b[0m\n\u001b[0;32m      8\u001b[0m \u001b[1;32mimport\u001b[0m \u001b[0msys\u001b[0m\u001b[1;33m\u001b[0m\u001b[0m\n\u001b[0;32m      9\u001b[0m \u001b[0msys\u001b[0m\u001b[1;33m.\u001b[0m\u001b[0mstdout\u001b[0m\u001b[1;33m.\u001b[0m\u001b[0mencoding\u001b[0m\u001b[1;33m\u001b[0m\u001b[0m\n\u001b[1;32m---> 10\u001b[1;33m \u001b[0msys\u001b[0m\u001b[1;33m.\u001b[0m\u001b[0mstdout\u001b[0m \u001b[1;33m=\u001b[0m \u001b[0mio\u001b[0m\u001b[1;33m.\u001b[0m\u001b[0mTextIOWrapper\u001b[0m\u001b[1;33m(\u001b[0m\u001b[0msys\u001b[0m\u001b[1;33m.\u001b[0m\u001b[0mstdout\u001b[0m\u001b[1;33m.\u001b[0m\u001b[0mdetach\u001b[0m\u001b[1;33m(\u001b[0m\u001b[1;33m)\u001b[0m\u001b[1;33m,\u001b[0m \u001b[0mencoding\u001b[0m\u001b[1;33m=\u001b[0m\u001b[1;34m'latin-1'\u001b[0m\u001b[1;33m)\u001b[0m\u001b[1;33m\u001b[0m\u001b[0m\n\u001b[0m\u001b[0;32m     11\u001b[0m \u001b[0msys\u001b[0m\u001b[1;33m.\u001b[0m\u001b[0mstdout\u001b[0m\u001b[1;33m.\u001b[0m\u001b[0mencoding\u001b[0m\u001b[1;33m\u001b[0m\u001b[0m\n",
      "\u001b[1;31mUnsupportedOperation\u001b[0m: detach"
     ]
    }
   ],
   "source": [
    "import urllib.request\n",
    "import io\n",
    "\n",
    "u = urllib.request.urlopen('http://www.python.org')\n",
    "f = io.TextIOWrapper(u, encoding='utf-8')\n",
    "text = f.read()\n",
    "\n",
    "import sys\n",
    "sys.stdout.encoding\n",
    "sys.stdout = io.TextIOWrapper(sys.stdout.detach(), encoding='latin-1')\n",
    "sys.stdout.encoding"
   ]
  },
  {
   "cell_type": "code",
   "execution_count": null,
   "metadata": {},
   "outputs": [],
   "source": []
  },
  {
   "cell_type": "code",
   "execution_count": null,
   "metadata": {},
   "outputs": [],
   "source": []
  }
 ],
 "metadata": {
  "kernelspec": {
   "display_name": "Python 3",
   "language": "python",
   "name": "python3"
  },
  "language_info": {
   "codemirror_mode": {
    "name": "ipython",
    "version": 3
   },
   "file_extension": ".py",
   "mimetype": "text/x-python",
   "name": "python",
   "nbconvert_exporter": "python",
   "pygments_lexer": "ipython3",
   "version": "3.6.4"
  }
 },
 "nbformat": 4,
 "nbformat_minor": 2
}
