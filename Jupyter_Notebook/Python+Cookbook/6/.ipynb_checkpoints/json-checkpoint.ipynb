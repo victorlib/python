{
 "cells": [
  {
   "cell_type": "code",
   "execution_count": 2,
   "metadata": {},
   "outputs": [
    {
     "name": "stdout",
     "output_type": "stream",
     "text": [
      "{\"name\": \"ACME\", \"shares\": 100, \"pirce\": 542.23}\n"
     ]
    }
   ],
   "source": [
    "import json\n",
    "data = {'name' : 'ACME', 'shares' : 100, 'pirce' : 542.23}\n",
    "json_str = json.dumps(data)\n",
    "print(json_str)"
   ]
  },
  {
   "cell_type": "markdown",
   "metadata": {},
   "source": [
    "如果你试着去检查JSON 解码后的数据，你通常很难通过简单的打印来确定它\n",
    "的结构，特别是当数据的嵌套结构层次很深或者包含大量的字段时。为了解决这个问\n",
    "题，可以考虑使用pprint 模块的pprint() 函数来代替普通的print() 函数。它会按\n",
    "照key 的字母顺序并以一种更加美观的方式输出。下面是一个演示如何漂亮的打印输\n",
    "出Twitter 上搜索结果的例子："
   ]
  },
  {
   "cell_type": "code",
   "execution_count": 10,
   "metadata": {},
   "outputs": [
    {
     "name": "stdout",
     "output_type": "stream",
     "text": [
      "{\n",
      "    \"name\": \"李文星\",\n",
      "    \"shares\": 100,\n",
      "    \"price\": 542.23\n",
      "}\n"
     ]
    }
   ],
   "source": [
    "import json\n",
    "import codecs\n",
    "\n",
    "data = {'name':'李文星', 'shares':100, 'price':542.23}\n",
    "json_str = json.dumps(data, ensure_ascii=False, indent = 4)\n",
    "print(json_str)\n",
    "\n",
    "\n",
    "# Writing Chinese\n",
    "path = open('chinese.json', 'w', encoding='gb18030')\n",
    "path.write(json_str)\n",
    "path.close()\n",
    "\n",
    "# Writing JSON data\n",
    "with open('data.json', 'w') as f:\n",
    "    json.dump(data, f)\n",
    "\n",
    "# Reading data back\n",
    "with open('data.json', 'r') as f:\n",
    "    data = json.load(f)\n",
    "\n",
    "\n",
    "\n",
    "\n"
   ]
  },
  {
   "cell_type": "markdown",
   "metadata": {},
   "source": [
    "如果你试着去检查JSON 解码后的数据，你通常很难通过简单的打印来确定它\n",
    "的结构，特别是当数据的嵌套结构层次很深或者包含大量的字段时。为了解决这个问\n",
    "题，可以考虑使用pprint 模块的pprint() 函数来代替普通的print() 函数。它会按\n",
    "照key 的字母顺序并以一种更加美观的方式输出。下面是一个演示如何漂亮的打印输\n",
    "出Twitter 上搜索结果的例子："
   ]
  },
  {
   "cell_type": "code",
   "execution_count": null,
   "metadata": {},
   "outputs": [],
   "source": [
    "\n",
    "#from urllib.request import urlopen\n",
    "#u = urlopen('http://search.twitter.com/search.json?q=python&rpp=5')\n",
    "#resp = json.loads(u.read().decode('utf-8'))\n",
    "#from pprint import pprint\n",
    "#print(resp)"
   ]
  },
  {
   "cell_type": "markdown",
   "metadata": {},
   "source": [
    "下面是如何将一个JSON 字典转换为一个Python 对象例子："
   ]
  },
  {
   "cell_type": "code",
   "execution_count": 12,
   "metadata": {},
   "outputs": [
    {
     "name": "stdout",
     "output_type": "stream",
     "text": [
      "OrderedDict([('name', 'ACME'), ('shares', 100), ('price', 490.1)])\n",
      "ACME\n"
     ]
    },
    {
     "data": {
      "text/plain": [
       "490.1"
      ]
     },
     "execution_count": 12,
     "metadata": {},
     "output_type": "execute_result"
    }
   ],
   "source": [
    "s = '{\"name\":\"ACME\", \"shares\":100, \"price\":490.1}'\n",
    "from collections import OrderedDict\n",
    "data = json.loads(s, object_pairs_hook=OrderedDict)\n",
    "print(data)\n",
    "\n",
    "# 下面是如何将一个JSON 字典转换为一个Python 对象例子：\n",
    "class JSONObject:\n",
    "    def __init__(self, d):\n",
    "        self.__dict__ = d\n",
    "\n",
    "data = json.loads(s, object_hook=JSONObject)\n",
    "print(data.name)\n",
    "data.shares\n",
    "data.price"
   ]
  },
  {
   "cell_type": "markdown",
   "metadata": {},
   "source": [
    "最后一个例子中，JSON 解码后的字典作为一个单个参数传递给__init__() 。然\n",
    "后，你就可以随心所欲的使用它了，比如作为一个实例字典来直接使用它。\n",
    "在编码JSON 的时候，还有一些选项很有用。如果你想获得漂亮的格式化字符串\n",
    "后输出，可以"
   ]
  },
  {
   "cell_type": "code",
   "execution_count": 16,
   "metadata": {},
   "outputs": [
    {
     "name": "stdout",
     "output_type": "stream",
     "text": [
      "{\n",
      "    \"name\": \"ACME\",\n",
      "    \"shares\": 50,\n",
      "    \"price\": 490.1\n",
      "}\n"
     ]
    }
   ],
   "source": [
    "data = {\"name\": \"ACME\", \"shares\": 50, \"price\": 490.1}\n",
    "print(json.dumps(data, indent=4))"
   ]
  },
  {
   "cell_type": "markdown",
   "metadata": {},
   "source": [
    "对象实例通常并不是JSON 可序列化的。例如："
   ]
  },
  {
   "cell_type": "code",
   "execution_count": null,
   "metadata": {},
   "outputs": [],
   "source": [
    "class Point:\n",
    "    def __init__(self, x, y):\n",
    "        self.x = x\n",
    "        self.y = y\n",
    "\n",
    "p = Point(2, 3)\n",
    "json.dumps(p)"
   ]
  },
  {
   "cell_type": "code",
   "execution_count": null,
   "metadata": {},
   "outputs": [],
   "source": []
  },
  {
   "cell_type": "code",
   "execution_count": null,
   "metadata": {},
   "outputs": [],
   "source": []
  }
 ],
 "metadata": {
  "kernelspec": {
   "display_name": "Python 3",
   "language": "python",
   "name": "python3"
  },
  "language_info": {
   "codemirror_mode": {
    "name": "ipython",
    "version": 3
   },
   "file_extension": ".py",
   "mimetype": "text/x-python",
   "name": "python",
   "nbconvert_exporter": "python",
   "pygments_lexer": "ipython3",
   "version": "3.6.4"
  }
 },
 "nbformat": 4,
 "nbformat_minor": 2
}
