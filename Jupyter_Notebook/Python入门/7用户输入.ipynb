{
 "cells": [
  {
   "cell_type": "code",
   "execution_count": null,
   "metadata": {},
   "outputs": [],
   "source": [
    "car = input('你想要租赁什么样的汽车？')\n",
    "print('让我看一下是否有'+car)"
   ]
  },
  {
   "cell_type": "code",
   "execution_count": null,
   "metadata": {},
   "outputs": [],
   "source": [
    "n = input('请问几人用餐')\n",
    "if int(n) > 8:\n",
    "    print('没有空桌了')\n",
    "else:\n",
    "    print('请入座')\n"
   ]
  },
  {
   "cell_type": "code",
   "execution_count": null,
   "metadata": {},
   "outputs": [],
   "source": [
    "i = input('请输入一个数字')\n",
    "if int(i)%10 ==0:\n",
    "    print(i+'是10的整数倍')\n",
    "else:\n",
    "    print(i+'不是10的整数倍')"
   ]
  },
  {
   "cell_type": "code",
   "execution_count": null,
   "metadata": {},
   "outputs": [],
   "source": [
    "while True:\n",
    "    peiLiao = input('请输入披萨配料(输入quit退出):')\n",
    "    if peiLiao == quit:\n",
    "        brek\n",
    "    print('我们会在披萨中添加\"'+peiLiao+'\"这种配料')"
   ]
  },
  {
   "cell_type": "code",
   "execution_count": null,
   "metadata": {},
   "outputs": [],
   "source": [
    "while True:\n",
    "    age = int(input('你的年龄是: '))\n",
    "    if age <3:\n",
    "        print('免费')\n",
    "    elif age <=12:\n",
    "        print('10美元')\n",
    "    else:\n",
    "        print('15美元')"
   ]
  },
  {
   "cell_type": "code",
   "execution_count": null,
   "metadata": {},
   "outputs": [],
   "source": [
    "active = 10\n",
    "while active > 0:\n",
    "    print(active)\n",
    "    active -= 1\n",
    "    if active % 2 == 0:\n",
    "        continue\n",
    "        \n",
    "    cmd = input('输入你的命令：')\n",
    "    if cmd == 'quit':\n",
    "        break\n",
    "        "
   ]
  },
  {
   "cell_type": "code",
   "execution_count": null,
   "metadata": {},
   "outputs": [],
   "source": [
    "sandwich_orders = ['三明治a','三明治b','三明治c']\n",
    "finished_sanwiches = []\n",
    "while sanwich_orders:\n",
    "    sanwich = sanwich_orders.pop()\n",
    "    print('I made your '+sanwich+' sandwich')\n",
    "    finished_sandwiches.append(sandwich)\n",
    "\n",
    "print('所有的三明治已经完成')\n",
    "print(finished_sandwiches)"
   ]
  },
  {
   "cell_type": "code",
   "execution_count": null,
   "metadata": {},
   "outputs": [],
   "source": [
    "sandwich_orders = ['sa','sb','sb','sa']\n",
    "while 'sa' in sandwich_orders:\n",
    "    sandwich_orders.remove('sa')\n",
    "    \n",
    "print('not sa')"
   ]
  },
  {
   "cell_type": "code",
   "execution_count": null,
   "metadata": {},
   "outputs": [],
   "source": [
    "responses = {}\n",
    "\n",
    "while True:\n",
    "    name = input('\\nwhat\\'t your name')\n",
    "    response = input('If you could visit one place in the world, where would you go?')\n",
    "    responses[name] = response\n",
    "    \n",
    "    flag = input('Would you like to let another person respond? (yes/ no)')\n",
    "    if flag == 'no':\n",
    "        break\n",
    "        \n",
    "\n",
    "print('\\n----------result------------')\n",
    "for name, response in responses.items():\n",
    "    print(name+' would like visit ' + response + '.')"
   ]
  },
  {
   "cell_type": "code",
   "execution_count": null,
   "metadata": {},
   "outputs": [],
   "source": []
  }
 ],
 "metadata": {
  "kernelspec": {
   "display_name": "Python 3",
   "language": "python",
   "name": "python3"
  },
  "language_info": {
   "codemirror_mode": {
    "name": "ipython",
    "version": 3
   },
   "file_extension": ".py",
   "mimetype": "text/x-python",
   "name": "python",
   "nbconvert_exporter": "python",
   "pygments_lexer": "ipython3",
   "version": "3.6.5"
  }
 },
 "nbformat": 4,
 "nbformat_minor": 2
}
