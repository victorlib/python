{
 "cells": [
  {
   "cell_type": "code",
   "execution_count": 13,
   "metadata": {},
   "outputs": [
    {
     "name": "stdout",
     "output_type": "stream",
     "text": [
      "Trek\n",
      "specialized\n",
      "trek\n",
      "['liwenxing', 'redline', 'specialized']\n",
      "['liwenxing', 'redline', 'specialized']\n"
     ]
    }
   ],
   "source": [
    "bicycles=['trek', 'redline', 'specialized']\n",
    "print(bicycles[0].title())\n",
    "print(bicycles[-1])  \n",
    "print(bicycles[-3])\n",
    "bicycles[0] = 'liwenxing'\n",
    "print(bicycles)\n",
    "print(bicycles)\n"
   ]
  },
  {
   "cell_type": "code",
   "execution_count": 9,
   "metadata": {},
   "outputs": [
    {
     "name": "stdout",
     "output_type": "stream",
     "text": [
      "['liwenxing', 'redline', 'specialized', 'end', 'end', 'end']\n",
      "['first', 'liwenxing', 'redline', 'specialized', 'end', 'end', 'end']\n"
     ]
    }
   ],
   "source": [
    "bicycles.append('end')\n",
    "print(bicycles)\n"
   ]
  },
  {
   "cell_type": "code",
   "execution_count": 14,
   "metadata": {},
   "outputs": [
    {
     "name": "stdout",
     "output_type": "stream",
     "text": [
      "['first', 'liwenxing', 'redline', 'specialized']\n"
     ]
    }
   ],
   "source": [
    "bicycles.insert(0, 'first')\n",
    "print(bicycles)"
   ]
  },
  {
   "cell_type": "code",
   "execution_count": 19,
   "metadata": {},
   "outputs": [
    {
     "name": "stdout",
     "output_type": "stream",
     "text": [
      "['liwenxing0', 'liwenxing1', 'liwenxingmid', 'liwenxing2', 'liwenxing3', 'liwenxingend']\n"
     ]
    }
   ],
   "source": [
    "peoples = ['liwenxing1', 'liwenxing2', 'liwenxing3']\n",
    "peoples.insert(0, 'liwenxing0')\n",
    "peoples.insert(2,'liwenxingmid')\n",
    "peoples.append('liwenxingend')\n",
    "print(peoples)"
   ]
  },
  {
   "cell_type": "code",
   "execution_count": 20,
   "metadata": {},
   "outputs": [
    {
     "name": "stdout",
     "output_type": "stream",
     "text": [
      "Sorry, liwenxingend I can't invite you to have dinner\n",
      "Sorry, liwenxing3 I can't invite you to have dinner\n",
      "Sorry, liwenxing2 I can't invite you to have dinner\n",
      "Sorry, liwenxingmid I can't invite you to have dinner\n",
      "liwenxing0, you can still have dinner.\n",
      "liwenxing1, you can still have dinner.\n",
      "[]\n",
      "I can only invite two people to have dinner\n"
     ]
    }
   ],
   "source": [
    "peoples = ['liwenxing0', 'liwenxing1', 'liwenxingmid',\n",
    "           'liwenxing2', 'liwenxing3', 'liwenxingend']\n",
    "i = 0\n",
    "while i<4:\n",
    "    name_pop = peoples.pop()\n",
    "    message = \"Sorry, \" + name_pop + \" I can't invite you to have dinner\"\n",
    "    print(message)\n",
    "    i = i+1\n",
    "\n",
    "for people in peoples:\n",
    "    message = people + \", you can still have dinner.\"\n",
    "    print(message)\n",
    "\n",
    "del(peoples[0])\n",
    "del(peoples[0])\n",
    "print(peoples)\n",
    "print(\"I can only invite two people to have dinner\")"
   ]
  },
  {
   "cell_type": "code",
   "execution_count": null,
   "metadata": {},
   "outputs": [],
   "source": []
  }
 ],
 "metadata": {
  "kernelspec": {
   "display_name": "Python 3",
   "language": "python",
   "name": "python3"
  },
  "language_info": {
   "codemirror_mode": {
    "name": "ipython",
    "version": 3
   },
   "file_extension": ".py",
   "mimetype": "text/x-python",
   "name": "python",
   "nbconvert_exporter": "python",
   "pygments_lexer": "ipython3",
   "version": "3.6.4"
  }
 },
 "nbformat": 4,
 "nbformat_minor": 2
}
