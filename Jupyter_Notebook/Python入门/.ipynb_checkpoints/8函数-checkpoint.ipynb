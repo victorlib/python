{
 "cells": [
  {
   "cell_type": "code",
   "execution_count": 1,
   "metadata": {},
   "outputs": [
    {
     "name": "stdout",
     "output_type": "stream",
     "text": [
      "窝在这本书上学到了Python基础知识\n"
     ]
    }
   ],
   "source": [
    "def display_message():\n",
    "    \"\"\"打印一条消息\"\"\"\n",
    "    print('窝在这本书上学到了Python基础知识')\n",
    "    \n",
    "display_message()"
   ]
  },
  {
   "cell_type": "code",
   "execution_count": 4,
   "metadata": {},
   "outputs": [
    {
     "name": "stdout",
     "output_type": "stream",
     "text": [
      "One of my favorite books is Alice In Wonderland\n"
     ]
    }
   ],
   "source": [
    "def favorite_book(title):\n",
    "    print('One of my favorite books is ' + title.title())\n",
    "\n",
    "favorite_book('alice in wonderland')"
   ]
  },
  {
   "cell_type": "code",
   "execution_count": 5,
   "metadata": {},
   "outputs": [
    {
     "name": "stdout",
     "output_type": "stream",
     "text": [
      "一件T恤的尺寸为L, 印有字样: big dream\n",
      "一件T恤的尺寸为XL, 印有字样: 怂\n"
     ]
    }
   ],
   "source": [
    "def make_shirt(size, font):\n",
    "    print('一件T恤的尺寸为'+size+', 印有字样: '+font)\n",
    "\n",
    "make_shirt('L', 'big dream')\n",
    "make_shirt(size='XL', font='怂')"
   ]
  },
  {
   "cell_type": "code",
   "execution_count": 6,
   "metadata": {},
   "outputs": [
    {
     "name": "stdout",
     "output_type": "stream",
     "text": [
      "一件T恤的尺寸为大号, 印有字样：I love Python\n",
      "一件T恤的尺寸为中号, 印有字样：a b c d\n"
     ]
    }
   ],
   "source": [
    "def make_shirt(size, font='I love Python'):\n",
    "    print('一件T恤的尺寸为'+size+', 印有字样：'+ font)\n",
    "\n",
    "make_shirt('大号')\n",
    "make_shirt('中号', 'a b c d')\n"
   ]
  },
  {
   "cell_type": "code",
   "execution_count": 7,
   "metadata": {},
   "outputs": [
    {
     "name": "stdout",
     "output_type": "stream",
     "text": [
      "Shanghai is in China\n",
      "Beijing is in China\n",
      "Newyork is in Usa\n"
     ]
    }
   ],
   "source": [
    "def describe_city(city, country='china'):\n",
    "    print(city.title()+' is in '+country.title())\n",
    "\n",
    "describe_city('shanghai')\n",
    "describe_city('beijing')\n",
    "describe_city(country='USA', city='NewYork')"
   ]
  },
  {
   "cell_type": "code",
   "execution_count": 9,
   "metadata": {},
   "outputs": [
    {
     "name": "stdout",
     "output_type": "stream",
     "text": [
      "{'singer': '周杰伦', 'album': '夜的第七章'}\n",
      "{'singer': '林俊杰', 'album': '专辑a'}\n",
      "{'singer': '李四', 'album': '专辑b', 'time': 50}\n"
     ]
    }
   ],
   "source": [
    "def make_album(singer, album, time=0):\n",
    "    a = {\n",
    "        'singer':singer,\n",
    "        'album':album\n",
    "    }\n",
    "    if time:\n",
    "        a['time'] = time\n",
    "    return a\n",
    "\n",
    "b = make_album('周杰伦', '夜的第七章')\n",
    "print(b)\n",
    "c = make_album('林俊杰', '专辑a')\n",
    "print(c)\n",
    "d = make_album('李四', '专辑b', 50)\n",
    "print(d)"
   ]
  },
  {
   "cell_type": "code",
   "execution_count": 11,
   "metadata": {},
   "outputs": [
    {
     "name": "stdout",
     "output_type": "stream",
     "text": [
      "Hello魔术师，Hannah!\n",
      "Hello魔术师，Try!\n",
      "Hello魔术师，Margot!\n"
     ]
    }
   ],
   "source": [
    "def show_magicians(names):\n",
    "    \"\"\"\n",
    "    向列表中的每位魔术师发出检点的问候\n",
    "    \"\"\"\n",
    "    for name in names:\n",
    "        msg = \"Hello魔术师，\" + name.title() + \"!\"\n",
    "        print(msg)\n",
    "    \n",
    "usernames = ['hannah', 'try', 'margot']\n",
    "show_magicians(usernames)"
   ]
  },
  {
   "cell_type": "code",
   "execution_count": 28,
   "metadata": {},
   "outputs": [
    {
     "name": "stdout",
     "output_type": "stream",
     "text": [
      "Hello魔术师，The Great Hannah!\n",
      "Hello魔术师，The Great Try!\n",
      "Hello魔术师，The Great Margot!\n",
      "Hello魔术师，Hannah!\n",
      "Hello魔术师，Try!\n",
      "Hello魔术师，Margot!\n"
     ]
    }
   ],
   "source": [
    "def make_greate(names):\n",
    "    \"\"\"\n",
    "    为列表中的每位魔术师名字前面加上the Great\n",
    "    \"\"\"\n",
    "    for i in range(0, len(names)):\n",
    "        names[i] = 'the Great ' + names[i]\n",
    "    return names       \n",
    "usernames = ['hannah', 'try', 'margot']\n",
    "b = make_greate(usernames[:])\n",
    "#make_greate(usernames)\n",
    "show_magicians(b) \n",
    "show_magicians(usernames)\n"
   ]
  },
  {
   "cell_type": "code",
   "execution_count": 31,
   "metadata": {},
   "outputs": [
    {
     "name": "stdout",
     "output_type": "stream",
     "text": [
      "('a', 'b', 'c', 'd')\n",
      "('a', 'b')\n",
      "()\n"
     ]
    }
   ],
   "source": [
    "def sandwich(*peiliao):\n",
    "    print(peiliao)\n",
    "\n",
    "sandwich('a', 'b', 'c', 'd')\n",
    "sandwich('a', 'b')\n",
    "sandwich()"
   ]
  },
  {
   "cell_type": "code",
   "execution_count": 35,
   "metadata": {},
   "outputs": [
    {
     "name": "stdout",
     "output_type": "stream",
     "text": [
      "{'first_name': 'chen', 'last_name': 'jiasheng', 'location': 'zhaoqing', 'field': 'cs', 'hobby': 'read'}\n"
     ]
    }
   ],
   "source": [
    "def build_profile(first, last, **user_info):\n",
    "    \"\"\"创建一个字典，其中包含我们知道的有关用户的一切\"\"\"\n",
    "    profile = {\n",
    "        'first_name':first,\n",
    "        'last_name':last,\n",
    "    }\n",
    "    for key,value in user_info.items():\n",
    "        profile[key] = value\n",
    "    return profile\n",
    "\n",
    "user_profile = build_profile('chen', 'jiasheng', location='zhaoqing', field='cs', hobby='read')\n",
    "print(user_profile)"
   ]
  },
  {
   "cell_type": "code",
   "execution_count": 37,
   "metadata": {},
   "outputs": [
    {
     "name": "stdout",
     "output_type": "stream",
     "text": [
      "{'manufacturer': '比亚迪', 'model': '唐', 'power': 'electricity', 'color': 'white'}\n"
     ]
    }
   ],
   "source": [
    "def make_car(manufacturer, model, **car_info):\n",
    "    car = {\n",
    "        'manufacturer':manufacturer,\n",
    "        'model':model,\n",
    "    }\n",
    "    for key, value in car_info.items():\n",
    "        car[key] = value\n",
    "    return car\n",
    "\n",
    "car = make_car('比亚迪', '唐',power='electricity', color='white')\n",
    "print(car)"
   ]
  },
  {
   "cell_type": "code",
   "execution_count": 38,
   "metadata": {},
   "outputs": [],
   "source": [
    "def foo():\n",
    "    print('hello function')\n"
   ]
  },
  {
   "cell_type": "code",
   "execution_count": null,
   "metadata": {},
   "outputs": [],
   "source": []
  }
 ],
 "metadata": {
  "kernelspec": {
   "display_name": "Python 3",
   "language": "python",
   "name": "python3"
  },
  "language_info": {
   "codemirror_mode": {
    "name": "ipython",
    "version": 3
   },
   "file_extension": ".py",
   "mimetype": "text/x-python",
   "name": "python",
   "nbconvert_exporter": "python",
   "pygments_lexer": "ipython3",
   "version": "3.6.5"
  }
 },
 "nbformat": 4,
 "nbformat_minor": 2
}
