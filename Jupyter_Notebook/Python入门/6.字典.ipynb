{
 "cells": [
  {
   "cell_type": "code",
   "execution_count": 2,
   "metadata": {},
   "outputs": [
    {
     "name": "stdout",
     "output_type": "stream",
     "text": [
      "Chen jiasheng\n",
      "age is 22\n",
      "from zhaoqing\n"
     ]
    }
   ],
   "source": [
    "people = {\n",
    "    'first_name':'chen',\n",
    "    'last_name':'jiasheng',\n",
    "    'age':'22',\n",
    "    'city':'zhaoqing'\n",
    "    }\n",
    "print(people['first_name'].title() + ' ' + people['last_name'])\n",
    "print('age is '+str(people['age']))\n",
    "print('from '+people['city'])"
   ]
  },
  {
   "cell_type": "code",
   "execution_count": 3,
   "metadata": {},
   "outputs": [
    {
     "name": "stdout",
     "output_type": "stream",
     "text": [
      "man1 like number 50\n",
      "man2 like number 110\n",
      "man3 like number 20\n",
      "man4 like number 70\n",
      "man5 like number 60\n"
     ]
    }
   ],
   "source": [
    "likeNums = {\n",
    "    'man1':50,\n",
    "    'man2':110,\n",
    "    'man3':20,\n",
    "    'man4':70,\n",
    "    'man5':60\n",
    "}\n",
    "for man in likeNums:\n",
    "    print(man + ' like number ' + str(likeNums[man]))"
   ]
  },
  {
   "cell_type": "code",
   "execution_count": 5,
   "metadata": {},
   "outputs": [
    {
     "name": "stdout",
     "output_type": "stream",
     "text": [
      "apple:苹果\n",
      "banana:香蕉\n",
      "red:红色\n",
      "blue:蓝色\n",
      "peopel:人\n",
      "apple\n",
      "banana\n",
      "red\n",
      "blue\n",
      "peopel\n"
     ]
    }
   ],
   "source": [
    "words = {\n",
    "    'apple':'苹果',\n",
    "    'banana':'香蕉',\n",
    "    'red':'红色',\n",
    "    'blue':'蓝色',\n",
    "    'peopel':'人'\n",
    "}\n",
    "\n",
    "for k,v in words.items():\n",
    "    print(''+k+':'+v)\n",
    "    \n",
    "for k in words.keys():\n",
    "    print(k)"
   ]
  },
  {
   "cell_type": "code",
   "execution_count": 2,
   "metadata": {},
   "outputs": [
    {
     "name": "stdout",
     "output_type": "stream",
     "text": [
      "{'color': 'green', 'points': 5}\n",
      "{'color': 'yellow', 'points': 10}\n",
      "{'color': 'red', 'points': 15}\n"
     ]
    }
   ],
   "source": [
    "alien_0 = {'color':'green', 'points':5}\n",
    "alien_1 = {'color':'yellow', 'points':10}\n",
    "alien_2 = {'color':'red','points':15}\n",
    "\n",
    "aliens = [alien_0, alien_1, alien_2]\n",
    "for alien in aliens:\n",
    "    print(alien)"
   ]
  },
  {
   "cell_type": "markdown",
   "metadata": {},
   "source": [
    "#### 6-7"
   ]
  },
  {
   "cell_type": "code",
   "execution_count": 5,
   "metadata": {},
   "outputs": [
    {
     "name": "stdout",
     "output_type": "stream",
     "text": [
      "first_name:chen\n",
      "last_name:jiasheng\n",
      "age:22\n",
      "city:zhaoqing\n",
      "\n",
      "first_name:zhang\n",
      "last_name:san\n",
      "age:21\n",
      "city:hangzhou\n",
      "\n",
      "first_name:li\n",
      "last_name:si\n",
      "age:32\n",
      "city:chongqing\n",
      "\n"
     ]
    }
   ],
   "source": [
    "people1 = {\n",
    "    'first_name':'chen',\n",
    "    'last_name':'jiasheng',\n",
    "    'age':22,\n",
    "    'city':'zhaoqing'\n",
    "}\n",
    "people2 = {\n",
    "    'first_name':'zhang',\n",
    "    'last_name':'san',\n",
    "    'age':21,\n",
    "    'city':'hangzhou'\n",
    "}\n",
    "people3 = {\n",
    "    'first_name':'li',\n",
    "    'last_name':'si',\n",
    "    'age':32,\n",
    "    'city':'chongqing'\n",
    "}\n",
    "peoples = [people1, people2, people3]\n",
    "\n",
    "for p in peoples:\n",
    "    for k, v in p.items():\n",
    "        print(k+':'+str(v))\n",
    "    print()"
   ]
  },
  {
   "cell_type": "markdown",
   "metadata": {},
   "source": [
    "#### 6-8"
   ]
  },
  {
   "cell_type": "code",
   "execution_count": 7,
   "metadata": {},
   "outputs": [
    {
     "name": "stdout",
     "output_type": "stream",
     "text": [
      "type:dog\n",
      "owner:县长\n",
      "\n",
      "type:dog\n",
      "owner:anjasx\n",
      "\n",
      "type:cat\n",
      "owner:翠花\n",
      "\n"
     ]
    }
   ],
   "source": [
    "wangcai = {\n",
    "    'type':'dog',\n",
    "    'owner':'县长'\n",
    "}\n",
    "xiaoduo = {\n",
    "    'type':'dog',\n",
    "    'owner':'anjasx'\n",
    "}\n",
    "xiaomei = {\n",
    "    'type':'cat',\n",
    "    'owner':'翠花'\n",
    "}\n",
    "\n",
    "pets = [wangcai, xiaoduo, xiaomei]\n",
    "for pet in pets:\n",
    "    for k,v in pet.items():\n",
    "        print(k+':'+v)\n",
    "    print()"
   ]
  },
  {
   "cell_type": "markdown",
   "metadata": {},
   "source": [
    "#### 6-9"
   ]
  },
  {
   "cell_type": "code",
   "execution_count": 9,
   "metadata": {},
   "outputs": [
    {
     "name": "stdout",
     "output_type": "stream",
     "text": [
      "xiaozhang喜欢的地方有: \n",
      "mexicro\n",
      "us\n",
      "england\n",
      "\n",
      "xiaomei喜欢的地方有: \n",
      "canada\n",
      "china\n",
      "\n",
      "xiaoqiang喜欢的地方有: \n",
      "indian\n",
      "\n"
     ]
    }
   ],
   "source": [
    "favorite_places = {\n",
    "    'xiaozhang':['mexicro', 'us', 'england'],\n",
    "    'xiaomei':['canada', 'china'],\n",
    "    'xiaoqiang':['indian']\n",
    "}\n",
    "for name, places in favorite_places.items():\n",
    "    print(name+'喜欢的地方有: ')\n",
    "    for place in places:\n",
    "        print(place)\n",
    "    print()"
   ]
  },
  {
   "cell_type": "markdown",
   "metadata": {},
   "source": [
    "#### 6-10"
   ]
  },
  {
   "cell_type": "code",
   "execution_count": 10,
   "metadata": {},
   "outputs": [
    {
     "name": "stdout",
     "output_type": "stream",
     "text": [
      "man1like nums: \n",
      "20\n",
      "123\n",
      "122\n",
      "\n",
      "man2like nums: \n",
      "123\n",
      "134\n",
      "145\n",
      "\n",
      "man3like nums: \n",
      "16\n",
      "98\n",
      "90\n",
      "56\n",
      "123\n",
      "\n",
      "man4like nums: \n",
      "46\n",
      "23\n",
      "57\n",
      "\n",
      "man5like nums: \n",
      "97\n",
      "26\n",
      "18\n",
      "\n"
     ]
    }
   ],
   "source": [
    "likeNums = {\n",
    "    'man1':[20, 123,122],\n",
    "    'man2':[123,134,145],\n",
    "    'man3':[16,98,90,56,123],\n",
    "    'man4':[46,23,57],\n",
    "    'man5':[97,26,18]\n",
    "}\n",
    "for man, nums in likeNums.items():\n",
    "    print(man + 'like nums: ')\n",
    "    for num in nums:\n",
    "        print(num)\n",
    "    print()"
   ]
  },
  {
   "cell_type": "code",
   "execution_count": 12,
   "metadata": {},
   "outputs": [
    {
     "name": "stdout",
     "output_type": "stream",
     "text": [
      "Hangzhou\n",
      "country:china\n",
      "population:1700\n",
      "fact:internet\n",
      "\n",
      "Chongqing\n",
      "country:China\n",
      "population:4700\n",
      "fact:huoguo\n",
      "\n",
      "Shanghai\n",
      "country:China\n",
      "population:2700\n",
      "fact:big city\n",
      "\n"
     ]
    }
   ],
   "source": [
    "citys = {\n",
    "    'hangzhou':{\n",
    "        'country':'china',\n",
    "        'population':1700,\n",
    "        'fact':'internet'\n",
    "    },\n",
    "    'chongqing':{\n",
    "        'country':'China',\n",
    "        'population':4700,\n",
    "        'fact':'huoguo'\n",
    "    },\n",
    "    'shanghai':{\n",
    "        'country':'China',\n",
    "        'population':2700,\n",
    "        'fact':'big city'\n",
    "    }\n",
    "}\n",
    "\n",
    "for name,val in citys.items():\n",
    "    print(name.title())\n",
    "    for k,v in val.items():\n",
    "        print(k+':'+str(v))\n",
    "    print()"
   ]
  },
  {
   "cell_type": "code",
   "execution_count": null,
   "metadata": {},
   "outputs": [],
   "source": []
  }
 ],
 "metadata": {
  "kernelspec": {
   "display_name": "Python 3",
   "language": "python",
   "name": "python3"
  },
  "language_info": {
   "codemirror_mode": {
    "name": "ipython",
    "version": 3
   },
   "file_extension": ".py",
   "mimetype": "text/x-python",
   "name": "python",
   "nbconvert_exporter": "python",
   "pygments_lexer": "ipython3",
   "version": "3.6.4"
  }
 },
 "nbformat": 4,
 "nbformat_minor": 2
}
